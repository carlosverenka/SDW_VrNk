{
  "nbformat": 4,
  "nbformat_minor": 0,
  "metadata": {
    "colab": {
      "provenance": [],
      "authorship_tag": "ABX9TyOcuNz7LTKLJ46wdMQXtsQU",
      "include_colab_link": true
    },
    "kernelspec": {
      "name": "python3",
      "display_name": "Python 3"
    },
    "language_info": {
      "name": "python"
    }
  },
  "cells": [
    {
      "cell_type": "markdown",
      "metadata": {
        "id": "view-in-github",
        "colab_type": "text"
      },
      "source": [
        "<a href=\"https://colab.research.google.com/github/carlosverenka/SDW_VrNk/blob/main/SDW2023_VrNk.ipynb\" target=\"_parent\"><img src=\"https://colab.research.google.com/assets/colab-badge.svg\" alt=\"Open In Colab\"/></a>"
      ]
    },
    {
      "cell_type": "markdown",
      "source": [
        "1 Etapa: Realizar o Extract do arquivo CSV"
      ],
      "metadata": {
        "id": "oPRIZ9MLnHu1"
      }
    },
    {
      "cell_type": "code",
      "source": [
        "sdw2023_api_url = 'https://sdw-2023-prd.up.railway.app'"
      ],
      "metadata": {
        "id": "QsdfHfrznFww"
      },
      "execution_count": null,
      "outputs": []
    },
    {
      "cell_type": "markdown",
      "source": [
        "Importamos o pandas para manipulação de informações das planilhas, retornando um dataframe"
      ],
      "metadata": {
        "id": "3GNaKF1wqK83"
      }
    },
    {
      "cell_type": "code",
      "source": [
        "import pandas as pd\n",
        "df = pd.read_csv('SDW2023.csv')\n",
        "user_ids = df['UserID'].tolist()\n",
        "print (user_ids)\n"
      ],
      "metadata": {
        "colab": {
          "base_uri": "https://localhost:8080/"
        },
        "id": "Qp36ojC8qLgb",
        "outputId": "77460fb0-9b84-40da-b0b2-d8c91557ed5c"
      },
      "execution_count": null,
      "outputs": [
        {
          "output_type": "stream",
          "name": "stdout",
          "text": [
            "[4990, 4991, 4992]\n"
          ]
        }
      ]
    },
    {
      "cell_type": "markdown",
      "source": [
        "Recuperando o usuário a partir do GET do Swagger UI"
      ],
      "metadata": {
        "id": "xt0dEHScrKAe"
      }
    },
    {
      "cell_type": "code",
      "source": [
        "import requests\n",
        "import json\n",
        "\n",
        "def get_user(id):\n",
        "  response = requests.get(f'{sdw2023_api_url}/users/{id}')\n",
        "  return response.json() if response.status_code == 200 else None\n",
        "#Vai retornar um valor se a resposta obtida na pesquisa no banco de dados (SWAGGER) for igual a 200 (Operation Successful)\n",
        "\n",
        "users = [user for id in user_ids if(user := get_user(id)) is not None]\n",
        "\n",
        "print(json.dumps(users, indent=2))\n",
        "#biblioteca json para imprimir os usuários formatados"
      ],
      "metadata": {
        "id": "wH5r-nrjrKRP"
      },
      "execution_count": null,
      "outputs": []
    },
    {
      "cell_type": "markdown",
      "source": [
        "**TRANFORM:**"
      ],
      "metadata": {
        "id": "G1TZtjVi5WzS"
      }
    },
    {
      "cell_type": "markdown",
      "source": [
        "Integração com a biblioteca da openAI"
      ],
      "metadata": {
        "id": "iB_SHG6B5nHK"
      }
    },
    {
      "cell_type": "code",
      "source": [
        "!pip install openai"
      ],
      "metadata": {
        "id": "s2jURCBU5ZBf"
      },
      "execution_count": null,
      "outputs": []
    },
    {
      "cell_type": "markdown",
      "source": [
        "Chave da API: https://platform.openai.com/account/api-keys"
      ],
      "metadata": {
        "id": "w8_Op5qX5yFI"
      }
    },
    {
      "cell_type": "code",
      "source": [
        "#@title\n",
        "openai_api_key = 'key'"
      ],
      "metadata": {
        "id": "aKHnIeDO8zxx"
      },
      "execution_count": null,
      "outputs": []
    },
    {
      "cell_type": "code",
      "source": [
        "import openai\n",
        "\n",
        "openai.api_key = openai_api_key\n",
        "\n",
        "def generate_ai_news(user):\n",
        "  completion = openai.ChatCompletion.create(\n",
        "    model=\"gpt-4\",\n",
        "    messages=[\n",
        "      {\n",
        "          \"role\": \"system\",\n",
        "          \"content\": \"Você é um especialista em marketing bancário\"\n",
        "      },\n",
        "      {\"role\": \"user\",\n",
        "       \"content\": f\"Crie uma mensagem para {user['name']} sobre  as vantagens de realizar investimentos (máximo 150 caracteres)\"\n",
        "      }\n",
        "    ]\n",
        "  )\n",
        "  return completion.choices[0].message.content.strip ('\\\"')\n",
        "\n",
        "for user in users:\n",
        "  news = generate_ai_news(user)\n",
        "  print(news)\n",
        "  user['news'].append({\n",
        "      \"description\": news\n",
        "  })"
      ],
      "metadata": {
        "colab": {
          "base_uri": "https://localhost:8080/"
        },
        "id": "k-TRxzE05yXg",
        "outputId": "fe26e0b5-df19-4394-cf3e-667dc1836f2a"
      },
      "execution_count": null,
      "outputs": [
        {
          "output_type": "stream",
          "name": "stdout",
          "text": [
            "Olá Carlos! Investir multiplica sua riqueza, garante futuro financeiro seguro e ajuda a bater a inflação. Vamos começar?\n",
            "Oi Jhon! Invista e veja seu dinheiro crescer! Garanta uma renda estável, segurança financeira e tranquilidade para o futuro. #InvestimentoBancario\n",
            "Oi Max! Invista e multiplique seu dinheiro com segurança. Construa seu futuro, liberdade financeira e realize sonhos. Vamos começar?\n"
          ]
        }
      ]
    },
    {
      "cell_type": "markdown",
      "source": [
        "**LOAD**"
      ],
      "metadata": {
        "id": "2ovIy4xQ-9Eg"
      }
    },
    {
      "cell_type": "code",
      "source": [
        "def update_user(user):\n",
        "  response = requests.put(f\"{sdw2023_api_url}/users/{user['id']}\", json=user)\n",
        "  return True if response.status_code == 200 else False\n",
        "\n",
        "for user in users:\n",
        "  success = update_user (user)\n",
        "  print(f\"User {user['name']} upadeted? {success}!\")"
      ],
      "metadata": {
        "colab": {
          "base_uri": "https://localhost:8080/"
        },
        "id": "6zQ3Uq-1_BC4",
        "outputId": "1e88bac2-cf1e-470f-d066-3d50040ad82e"
      },
      "execution_count": null,
      "outputs": [
        {
          "output_type": "stream",
          "name": "stdout",
          "text": [
            "User Carlos upadeted? True!\n",
            "User Jhon upadeted? True!\n",
            "User Max upadeted? True!\n"
          ]
        }
      ]
    }
  ]
}